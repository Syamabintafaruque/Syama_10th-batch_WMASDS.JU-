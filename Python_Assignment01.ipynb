{
  "nbformat": 4,
  "nbformat_minor": 0,
  "metadata": {
    "colab": {
      "provenance": [],
      "authorship_tag": "ABX9TyNF094om9pgEpMRuTwu38OY",
      "include_colab_link": true
    },
    "kernelspec": {
      "name": "python3",
      "display_name": "Python 3"
    },
    "language_info": {
      "name": "python"
    }
  },
  "cells": [
    {
      "cell_type": "markdown",
      "metadata": {
        "id": "view-in-github",
        "colab_type": "text"
      },
      "source": [
        "<a href=\"https://colab.research.google.com/github/Syamabintafaruque/Syama_10th-batch/blob/main/Python_Assignment01.ipynb\" target=\"_parent\"><img src=\"https://colab.research.google.com/assets/colab-badge.svg\" alt=\"Open In Colab\"/></a>"
      ]
    },
    {
      "cell_type": "markdown",
      "source": [
        "NAME : SYAMA BINTA FARUQUE\n",
        "\n",
        "ID NO : 20231084\n",
        "\n",
        "ASSIGNMENT # 01"
      ],
      "metadata": {
        "id": "BcUO294fpuVP"
      }
    },
    {
      "cell_type": "markdown",
      "source": [
        "Python : Variables"
      ],
      "metadata": {
        "id": "NOaRO5zZq4Vs"
      }
    },
    {
      "cell_type": "code",
      "source": [
        "# a) Use input() function to accept numbers from user as a value of a varriable x.\n",
        "# b) Check the data type using type() function.\n",
        "# c) Also convert the data type to integer and assign to the variable y.\n",
        "# Convert the data type into float and assign to the varriable z.\n",
        "# Display the data type of x, y and z.\n",
        "print(\"Give a number :\")\n",
        "x = input()\n",
        "print(type(x))\n",
        "int(x)\n",
        "y = int(x)\n",
        "float(x)\n",
        "z = float(x)\n",
        "print(\"x=\", x, \"y=\", y, \"z=\", z)\n",
        "print(type(x),type(y),type(z))\n"
      ],
      "metadata": {
        "colab": {
          "base_uri": "https://localhost:8080/"
        },
        "id": "rsRetNNXrNs0",
        "outputId": "de8a03f0-c3a5-4a29-e778-c4fee1177096"
      },
      "execution_count": null,
      "outputs": [
        {
          "output_type": "stream",
          "name": "stdout",
          "text": [
            "Give a number :\n",
            "43\n",
            "<class 'str'>\n",
            "x= 43 y= 43 z= 43.0\n",
            "<class 'str'> <class 'int'> <class 'float'>\n"
          ]
        }
      ]
    },
    {
      "cell_type": "markdown",
      "source": [
        "Strings in Python"
      ],
      "metadata": {
        "id": "EzH8MsTvJ530"
      }
    },
    {
      "cell_type": "code",
      "source": [
        "# a) Write a Python program to calculate the length of a string.\n",
        "# b) Write a Python program to count the number of characters in a string.\n",
        "# c) Write a Python program to remove the kth index character from a string.\n",
        "# d) Write a Python program to remove the characters which have odd index values of a given string.\n",
        "# e) Write a Python sctipt that takes input from the user and displays that input back in upper and lower cases.\n",
        "# f) Write a Python program to sort a string.\n",
        "# g) Write a Python program to reverse a string.\n",
        "# h) Write a Python program to convert a given string into a list.\n",
        "Name = \"Karim\"\n",
        "len(Name)\n",
        "print(len(Name))\n",
        "txt = \"Jahangirnagar University is a symbol of natural beauty\"\n",
        "x = txt.count(\"University\")\n",
        "print(x)\n",
        "Name = \"Karim\"\n",
        "Name[1:]\n",
        "print(Name[1:])\n",
        "str=\"Jahangirnagar University\"\n",
        "res = \"\"\n",
        "print(\"Original String :\",str) \n",
        "for i in range(len(str)):\n",
        "\tif i % 2 == 0:\n",
        "\t  res = res + str[i]\n",
        "print(\"Remove Odd Index Char :\",res)\n",
        "str = input(\"Enter the String :\")\n",
        "print(\"Given String :\",str)\n",
        "print(\"UpperCase :\"+ str.upper())\n",
        "print(\"LowerCase :\"+ str.lower())\n",
        "print(\"Enter the String: \", end=\"\")\n",
        "str = input()\n",
        "\n",
        "strLen = len(str)\n",
        "for i in range(strLen):\n",
        "    for j in range(strLen-1):\n",
        "        if str[j] > str[j+1]:\n",
        "            str = str[:j] + str[j+1] + str[j] + str[j+2:]\n",
        "\n",
        "print(\"\\nSorted String in Ascending:\", str)\n",
        "print(\"Enter the String: \", end=\"\")\n",
        "str = input()\n",
        "\n",
        "strRev = \"\"\n",
        "for ch in str:\n",
        "    strRev = ch + strRev\n",
        "\n",
        "str = strRev\n",
        "print(\"\\nReverse =\", str)\n",
        "s = \"Hello is there anyone\"\n",
        "s.split(\" \")\n",
        "print(s.split(\" \"))\n",
        "\n",
        "\n",
        "\n",
        "\n",
        "\n",
        "\n",
        "\n",
        "\n",
        "\n",
        "\n",
        "\n",
        "\n",
        "\n",
        "\n",
        "\n"
      ],
      "metadata": {
        "id": "SaSDiPPQKKtb",
        "colab": {
          "base_uri": "https://localhost:8080/"
        },
        "outputId": "0491f211-620c-40b3-8470-4685022bcc0b"
      },
      "execution_count": null,
      "outputs": [
        {
          "output_type": "stream",
          "name": "stdout",
          "text": [
            "5\n",
            "1\n",
            "arim\n",
            "Original String : Jahangirnagar University\n",
            "Remove Odd Index Char : JhningrUiest\n",
            "Enter the String :Statistics\n",
            "Given String : Statistics\n",
            "UpperCase :STATISTICS\n",
            "LowerCase :statistics\n",
            "Enter the String: Computer\n",
            "\n",
            "Sorted String in Ascending: Cemoprtu\n",
            "Enter the String: abcdef\n",
            "\n",
            "Reverse = fedcba\n",
            "['Hello', 'is', 'there', 'anyone']\n"
          ]
        }
      ]
    },
    {
      "cell_type": "markdown",
      "source": [
        "Python : Lists"
      ],
      "metadata": {
        "id": "Xat7-qw0fW2P"
      }
    },
    {
      "cell_type": "code",
      "source": [
        "# a) Write a Python program to sum (or product) all the items in a list.\n",
        "item=[1,7,-10,34,2,-8]\n",
        "sum = 0\n",
        "for i in item:\n",
        "\tsum+= i\n",
        "print(sum)\n",
        "# b) Write a Python program  to get the largest/smallest number from a list.\n",
        "list1 = [10, 20, 1, 45, 99]\n",
        " \n",
        " \n",
        "# c) printing the maximum element\n",
        "print(\"Smallest element is:\", min(list1))\n",
        "print(\"Largest element is:\", max(list1))\n",
        "# d) Write a Python program to print the numbers of a specified list after removing even numbers from it.\n",
        "num = [7,8, 120, 25, 44, 20, 27]\n",
        "num = [x for x in num if x%2!=0]\n",
        "print(num)\n",
        "# e) Write a python program to select the odd number of a list.\n",
        "# list of numbers\n",
        "list1 = [10, 21, 4, 45, 66, 93]\n",
        " \n",
        "# iterating each number in list\n",
        "for num in list1:\n",
        "\n",
        "    # checking condition\n",
        "    if num % 2 != 0:\n",
        "       print(num, end=\" \")\n",
        "# f) Write a Python program to convert a list of characters into a string.\n",
        "list = [\"I\", \"am\", \"okay\"]\n",
        "print(list)\n",
        "\" \".join(list) \n",
        "# g) Write a Python program to get unique values from a list and to count unique values inside a list. Also get the frequency of the elements in the list\n",
        "input_list = [1, 2, 2, 5, 8, 4, 4, 8] \n",
        "\n",
        "res_list = []\n",
        "\n",
        "for item in input_list: \n",
        "    if item not in res_list: \n",
        "        res_list.append(item) \n",
        "\n",
        "print(\"Unique elements of the list using append():\\n\")    \n",
        "for item in res_list: \n",
        "    print(item) \n",
        "\n",
        "from collections import Counter\n",
        " \n",
        " \n",
        "input_list = [1, 2, 2, 5, 8, 4, 4, 8]\n",
        " \n",
        "# creating a list with the keys\n",
        "items = Counter(input_list).keys()\n",
        "print(\"No of unique items in the list are:\", len(items))\n",
        "from collections import Counter\n",
        "input_list =  [1, 2, 2, 5, 8, 4, 4,]\n",
        "c = Counter( input_list )\n",
        "\n",
        "print( c.items() )\n",
        "# i) Write a python program to extract elements with frequency greater than K.\n",
        "# j) Write a Python program to reverse all strings in string list.\n",
        "list = [1, 2, 3, 4, 5]\n",
        "\n",
        "list.reverse()\n",
        "print(list)\n",
        "\n",
        "\n"
      ],
      "metadata": {
        "id": "aA_126g6CEJr",
        "colab": {
          "base_uri": "https://localhost:8080/"
        },
        "outputId": "61697db1-1317-45c9-bdc7-3beb6ec55bd0"
      },
      "execution_count": null,
      "outputs": [
        {
          "output_type": "stream",
          "name": "stdout",
          "text": [
            "26\n",
            "Smallest element is: 1\n",
            "Largest element is: 99\n",
            "[7, 25, 27]\n",
            "21 45 93 ['I', 'am', 'okay']\n",
            "Unique elements of the list using append():\n",
            "\n",
            "1\n",
            "2\n",
            "5\n",
            "8\n",
            "4\n",
            "No of unique items in the list are: 5\n",
            "dict_items([(1, 1), (2, 2), (5, 1), (8, 1), (4, 2)])\n",
            "[5, 4, 3, 2, 1]\n"
          ]
        }
      ]
    },
    {
      "cell_type": "markdown",
      "source": [
        "Python : Dictionary\n"
      ],
      "metadata": {
        "id": "21VtWygbgCF1"
      }
    },
    {
      "cell_type": "code",
      "source": [
        "# a) Write a Python script to create a dictionary (i) Create a dictionary named fruit with keys:(names, color, taste). \n",
        "# Add mango and Lemon as the value of key- names, yellow and green as the value of color, sweet and sour as the value of taste.\n",
        "# (ii) display the dictionary. (iii) Add a new value, Apple in the names.\n",
        "list1 = [\"Name\", \"Color\", \"Taste\"]\n",
        "list2 = [\"Coconut\", \"Brown\", \"Sweet\"]\n",
        "dict(zip(list1, list2))\n",
        "print(dict(zip(list1, list2)))\n",
        "# b) Write a Python program to add a key to a dictionary.\n",
        "d = {0:10, 1:20}\n",
        "print(d)\n",
        "d.update({2:30})\n",
        "print(d)\n",
        "# c) Write a Python program to check whether a given key already exixts in a dictionary.\n",
        "d = {1: 10, 2: 20, 3: 30, 4: 40, 5: 50, 6: 60}\n",
        "def is_key_present(x):\n",
        "  if x in d:\n",
        "      print('Key is present in the dictionary')\n",
        "  else:\n",
        "      print('Key is not present in the dictionary')\n",
        "is_key_present(5)\n",
        "is_key_present(9)\n",
        "# d) Access dictionary key's element by index.\n",
        "my_dict = {\n",
        "    'id': 1,\n",
        "    'name': 'Bobbyhadz',\n",
        "    'age': 30,\n",
        "}\n",
        "\n",
        "index = None\n",
        "\n",
        "if 'name' in my_dict:\n",
        "    index = list(my_dict).index('name')\n",
        "\n",
        "print(index)  #  1\n",
        "\n",
        "key = list(my_dict)[1]\n",
        "print(key)  #  name\n",
        "\n",
        "value = list(my_dict.values())[1]\n",
        "print(value)  #  Bobbyhadz \n",
        "# e) Write a python program to irerate over dictionaries using for loops.\n",
        "dt = {'a': 'juice', 'b': 'grill', 'c': 'corn'}\n",
        "\n",
        "for key, value in dt.items():\n",
        "    print(key, value)\n",
        "# f) Write a python script to print a dictionary where the keys are numbers between 1 and n(both included) and the values are square of keys.\n",
        "d=dict()\n",
        "for x in range(1,16):\n",
        "    d[x]=x**2\n",
        "print(d)  \n",
        "# g) Create a dictionary by extracting the keys from a given dictionary\n",
        "dictA = {'Sun': '2 PM', \"Tue\": '5 PM', 'Wed': '3 PM', 'Fri': '9 PM'}\n",
        "\n",
        "# Given dictionary\n",
        "print(\"Given dictionary : \",dictA)\n",
        "\n",
        "res = {key: dictA[key] for key in dictA.keys()\n",
        "& {'Fri', 'Sun'}}\n",
        "\n",
        "print(\"Dictionary with given keys is : \",res)\n",
        "# h) Write a python program to rename key of a dictionary.\n",
        "a_dict = {\"a\": 1, \"B\": 2, \"C\": 3}\n",
        "\n",
        "new_key = \"A\"\n",
        "old_key = \"a\"\n",
        "a_dict[new_key] = a_dict.pop(old_key)\n",
        "print(a_dict)\n",
        "# i) Write a program to print only keys of a dictionary.\n",
        "dictionary = {\n",
        "   'Novel': 'Pride and Prejudice',\n",
        "   'year': '1813',\n",
        "   'author': 'Jane Austen',\n",
        "   'character': 'Elizabeth Bennet'\n",
        "}\n",
        "\n",
        "print(dictionary.keys())\n",
        "# j) Write a program to print values of dictionary.\n",
        "dictionary = {\n",
        "   'Name': 'Arzaan',\n",
        "   'Age': '3.5',\n",
        "   'Hair': 'Black',\n",
        "   'Favourite': 'Blippi'\n",
        "}\n",
        "\n",
        "print(dictionary.values())\n",
        "\n",
        "\n",
        " \n",
        "\n"
      ],
      "metadata": {
        "colab": {
          "base_uri": "https://localhost:8080/"
        },
        "id": "snNHv4I9gMOg",
        "outputId": "44227fe4-9c5d-40f9-b6a2-6cc949e88099"
      },
      "execution_count": null,
      "outputs": [
        {
          "output_type": "stream",
          "name": "stdout",
          "text": [
            "{'Name': 'Coconut', 'Color': 'Brown', 'Taste': 'Sweet'}\n",
            "{0: 10, 1: 20}\n",
            "{0: 10, 1: 20, 2: 30}\n",
            "Key is present in the dictionary\n",
            "Key is not present in the dictionary\n",
            "1\n",
            "name\n",
            "Bobbyhadz\n",
            "a juice\n",
            "b grill\n",
            "c corn\n",
            "{1: 1, 2: 4, 3: 9, 4: 16, 5: 25, 6: 36, 7: 49, 8: 64, 9: 81, 10: 100, 11: 121, 12: 144, 13: 169, 14: 196, 15: 225}\n",
            "Given dictionary :  {'Sun': '2 PM', 'Tue': '5 PM', 'Wed': '3 PM', 'Fri': '9 PM'}\n",
            "Dictionary with given keys is :  {'Sun': '2 PM', 'Fri': '9 PM'}\n",
            "{'B': 2, 'C': 3, 'A': 1}\n",
            "dict_keys(['Novel', 'year', 'author', 'character'])\n",
            "dict_values(['Arzaan', '3.5', 'Black', 'Blippi'])\n"
          ]
        }
      ]
    },
    {
      "cell_type": "markdown",
      "source": [
        "Python : Loops"
      ],
      "metadata": {
        "id": "O37b0z0tmSOs"
      }
    },
    {
      "cell_type": "code",
      "source": [
        "# a) Print first 10 natural numbers using  while loop.\n",
        "i = 1\n",
        "while i <= 10:\n",
        "    print(i)\n",
        "    i += 1\n",
        "# b) Write a program to print multiplication table of a given number.\n",
        "num = int(input(\" Enter a number : \"))    \n",
        "\n",
        "# using the for loop to generate the multiplication tables     \n",
        "\n",
        "print(\"Table of: \")  \n",
        "\n",
        "for a in range(1,11):    \n",
        "\n",
        "   print(num,'x',a,'=',num*a)  \n",
        "# c) Display numbers from a list using loop.\n",
        "a = [10, 7, 15, 24] \n",
        "i=0 \n",
        "while (i<len(a)): \n",
        "     print(a[i]) \n",
        "     i+=1;\n",
        "# d) Print list in reverse order using a loop.\n",
        "list1 = [1,2,3,4,5]\n",
        "list1.reverse()\n",
        "print(\"List after reverse : \",list1)\n",
        "# e) Display numbers from -10 to -1 using for loop.\n",
        "list1 = [-10, -9, -8, -7, -6, -5, -4, -3, -2, -1]\n",
        "\n",
        "for i in list1:\n",
        "    print(i, end = \" \")\n",
        "\n",
        "# f) Find the factorial of a given number.\n",
        "def factorial(n):\n",
        "\tresult = 1\n",
        "\ti=1\n",
        "\twhile i<=n:\n",
        "\t\tresult*=i\n",
        "\t\ti+=1\n",
        "\treturn result\n",
        "\n",
        "n = int(input('Enter a number: '))\n",
        "\n",
        "result = factorial(n)\n",
        "\n",
        "print(result)\n",
        "\n",
        "# g) Use a loop to display elements from a given list present at odd index positions.\n",
        "odList = [36, 48, 77, 55, 90, 128, 193, 240]\n",
        "\n",
        "for i in range(0, len(odList), 2):\n",
        "    print(odList[i], end = '  ')\n",
        "# h) Calculate the cube of all nunbers from 1 to a given number.\n",
        "number = float(input(\" Please Enter any numeric Value : \"))\n",
        "\n",
        "cube = number ** 3\n",
        "\n",
        "print(\"The Cube of a Given Number {0}  = {1}\".format(number, cube))"
      ],
      "metadata": {
        "colab": {
          "base_uri": "https://localhost:8080/"
        },
        "id": "g0DUqGTKmghQ",
        "outputId": "159571c9-0631-45d8-c5cc-d1426373e0b7"
      },
      "execution_count": null,
      "outputs": [
        {
          "output_type": "stream",
          "name": "stdout",
          "text": [
            "1\n",
            "2\n",
            "3\n",
            "4\n",
            "5\n",
            "6\n",
            "7\n",
            "8\n",
            "9\n",
            "10\n",
            " Enter a number : 5\n",
            "Table of: \n",
            "5 x 1 = 5\n",
            "5 x 2 = 10\n",
            "5 x 3 = 15\n",
            "5 x 4 = 20\n",
            "5 x 5 = 25\n",
            "5 x 6 = 30\n",
            "5 x 7 = 35\n",
            "5 x 8 = 40\n",
            "5 x 9 = 45\n",
            "5 x 10 = 50\n",
            "10\n",
            "7\n",
            "15\n",
            "24\n",
            "List after reverse :  [5, 4, 3, 2, 1]\n",
            "-10 -9 -8 -7 -6 -5 -4 -3 -2 -1 Enter a number: 6\n",
            "720\n",
            "36  77  90  193   Please Enter any numeric Value : 10\n",
            "The Cube of a Given Number 10.0  = 1000.0\n"
          ]
        }
      ]
    },
    {
      "cell_type": "markdown",
      "source": [
        "Python : User-defined Functions"
      ],
      "metadata": {
        "id": "on8djCsCU1ok"
      }
    },
    {
      "cell_type": "code",
      "source": [
        "# a) Write a python program to create a function that will return a list of unique digits in your class ID.\n",
        "My_Id = \"20231084\"\n",
        "print(My_Id)\n",
        "type(My_Id)\n",
        "if __name__ == '__main__':\n",
        " \n",
        "    input = '20231084'\n",
        " \n",
        "    chars = list(input)\n",
        "    print(chars) \n",
        "\n",
        "def unique_list(l):\n",
        "  x = []\n",
        "  for a in l:\n",
        "    if a not in x:\n",
        "      x.append(a)\n",
        "  return x\n",
        "\n",
        "print(unique_list(['2', '0', '2', '3', '1', '0', '8', '8'])) \n",
        "\n",
        "\n",
        "\n",
        "\n",
        "\n",
        "\n"
      ],
      "metadata": {
        "id": "R8hdGpIbVTNr",
        "colab": {
          "base_uri": "https://localhost:8080/"
        },
        "outputId": "1acdf189-f2c8-4b39-bb13-0523bf1a6da1"
      },
      "execution_count": null,
      "outputs": [
        {
          "output_type": "stream",
          "name": "stdout",
          "text": [
            "20231084\n",
            "['2', '0', '2', '3', '1', '0', '8', '4']\n",
            "['2', '0', '3', '1', '8']\n"
          ]
        }
      ]
    },
    {
      "cell_type": "markdown",
      "source": [
        "                                           THANK YOU\n",
        "\n",
        "\n",
        "\n",
        "\n"
      ],
      "metadata": {
        "id": "3YUhxWjoDFWS"
      }
    }
  ]
}